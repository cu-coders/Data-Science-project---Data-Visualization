{
 "cells": [
  {
   "cell_type": "markdown",
   "metadata": {},
   "source": [
    "# <center>Working With Plotly</center>"
   ]
  },
  {
   "cell_type": "code",
   "execution_count": 1,
   "metadata": {},
   "outputs": [
    {
     "name": "stdout",
     "output_type": "stream",
     "text": [
      "4.8.1\n"
     ]
    },
    {
     "ename": "ImportError",
     "evalue": "\nThe plotly.plotly module is deprecated,\nplease install the chart-studio package and use the\nchart_studio.plotly module instead. \n",
     "output_type": "error",
     "traceback": [
      "\u001b[1;31m---------------------------------------------------------------------------\u001b[0m",
      "\u001b[1;31mImportError\u001b[0m                               Traceback (most recent call last)",
      "\u001b[1;32m<ipython-input-1-94c29088bb7e>\u001b[0m in \u001b[0;36m<module>\u001b[1;34m\u001b[0m\n\u001b[0;32m      5\u001b[0m \u001b[1;32mimport\u001b[0m \u001b[0mplotly\u001b[0m\u001b[1;33m.\u001b[0m\u001b[0mgraph_objs\u001b[0m \u001b[1;32mas\u001b[0m \u001b[0mgo\u001b[0m\u001b[1;33m\u001b[0m\u001b[1;33m\u001b[0m\u001b[0m\n\u001b[0;32m      6\u001b[0m \u001b[1;32mimport\u001b[0m \u001b[0mplotly\u001b[0m\u001b[1;33m.\u001b[0m\u001b[0mfigure_factory\u001b[0m \u001b[1;32mas\u001b[0m \u001b[0mff\u001b[0m\u001b[1;33m\u001b[0m\u001b[1;33m\u001b[0m\u001b[0m\n\u001b[1;32m----> 7\u001b[1;33m \u001b[1;32mimport\u001b[0m \u001b[0mplotly\u001b[0m\u001b[1;33m.\u001b[0m\u001b[0mplotly\u001b[0m \u001b[1;32mas\u001b[0m \u001b[0mpy\u001b[0m\u001b[1;33m\u001b[0m\u001b[1;33m\u001b[0m\u001b[0m\n\u001b[0m\u001b[0;32m      8\u001b[0m \u001b[1;32mimport\u001b[0m \u001b[0mnumpy\u001b[0m \u001b[1;32mas\u001b[0m \u001b[0mnp\u001b[0m\u001b[1;33m\u001b[0m\u001b[1;33m\u001b[0m\u001b[0m\n\u001b[0;32m      9\u001b[0m \u001b[1;32mimport\u001b[0m \u001b[0mpandas\u001b[0m \u001b[1;32mas\u001b[0m \u001b[0mpd\u001b[0m\u001b[1;33m\u001b[0m\u001b[1;33m\u001b[0m\u001b[0m\n",
      "\u001b[1;32mc:\\users\\lenovo\\appdata\\local\\programs\\python\\python38-32\\lib\\site-packages\\plotly\\plotly\\__init__.py\u001b[0m in \u001b[0;36m<module>\u001b[1;34m\u001b[0m\n\u001b[0;32m      2\u001b[0m \u001b[1;32mfrom\u001b[0m \u001b[0m_plotly_future_\u001b[0m \u001b[1;32mimport\u001b[0m \u001b[0m_chart_studio_error\u001b[0m\u001b[1;33m\u001b[0m\u001b[1;33m\u001b[0m\u001b[0m\n\u001b[0;32m      3\u001b[0m \u001b[1;33m\u001b[0m\u001b[0m\n\u001b[1;32m----> 4\u001b[1;33m \u001b[0m_chart_studio_error\u001b[0m\u001b[1;33m(\u001b[0m\u001b[1;34m\"plotly\"\u001b[0m\u001b[1;33m)\u001b[0m\u001b[1;33m\u001b[0m\u001b[1;33m\u001b[0m\u001b[0m\n\u001b[0m",
      "\u001b[1;32mc:\\users\\lenovo\\appdata\\local\\programs\\python\\python38-32\\lib\\site-packages\\_plotly_future_\\__init__.py\u001b[0m in \u001b[0;36m_chart_studio_error\u001b[1;34m(submodule)\u001b[0m\n\u001b[0;32m     41\u001b[0m \u001b[1;33m\u001b[0m\u001b[0m\n\u001b[0;32m     42\u001b[0m \u001b[1;32mdef\u001b[0m \u001b[0m_chart_studio_error\u001b[0m\u001b[1;33m(\u001b[0m\u001b[0msubmodule\u001b[0m\u001b[1;33m)\u001b[0m\u001b[1;33m:\u001b[0m\u001b[1;33m\u001b[0m\u001b[1;33m\u001b[0m\u001b[0m\n\u001b[1;32m---> 43\u001b[1;33m     raise ImportError(\n\u001b[0m\u001b[0;32m     44\u001b[0m         \"\"\"\n\u001b[0;32m     45\u001b[0m \u001b[0mThe\u001b[0m \u001b[0mplotly\u001b[0m\u001b[1;33m.\u001b[0m\u001b[1;33m{\u001b[0m\u001b[0msubmodule\u001b[0m\u001b[1;33m}\u001b[0m \u001b[0mmodule\u001b[0m \u001b[1;32mis\u001b[0m \u001b[0mdeprecated\u001b[0m\u001b[1;33m,\u001b[0m\u001b[1;33m\u001b[0m\u001b[1;33m\u001b[0m\u001b[0m\n",
      "\u001b[1;31mImportError\u001b[0m: \nThe plotly.plotly module is deprecated,\nplease install the chart-studio package and use the\nchart_studio.plotly module instead. \n"
     ]
    }
   ],
   "source": [
    "\n",
    "import plotly\n",
    "from plotly import __version__\n",
    "print (__version__)\n",
    "from plotly.offline import download_plotlyjs, init_notebook_mode, plot, iplot\n",
    "import plotly.graph_objs as go\n",
    "import plotly.figure_factory as ff\n",
    "import plotly.plotly as py\n",
    "import numpy as np\n",
    "import pandas as pd\n"
   ]
  },
  {
   "cell_type": "code",
   "execution_count": null,
   "metadata": {},
   "outputs": [],
   "source": [
    "#Jupyter setup\n",
    "init_notebook_mode(connected=True)"
   ]
  },
  {
   "cell_type": "markdown",
   "metadata": {},
   "source": [
    "To save the chart to Plotly Cloud or Plotly Enterprise, use plotly.plotly.iplot.\n",
    "\n",
    "Use py.plot() to return the unique url and optionally open the url.\n",
    "\n",
    "Use py.iplot() when working in a Jupyter Notebook to display the plot in the notebook.\n",
    "\n"
   ]
  },
  {
   "cell_type": "code",
   "execution_count": null,
   "metadata": {},
   "outputs": [],
   "source": [
    "iplot([{\"x\": [1, 2, 3, 4, 5], \"y\": [1, 2, 6, 4, 1]}])"
   ]
  },
  {
   "cell_type": "code",
   "execution_count": null,
   "metadata": {},
   "outputs": [],
   "source": [
    "import plotly.graph_objs as go\n",
    "import numpy as np\n",
    "\n",
    "x = np.random.randn(2000)\n",
    "y = np.random.randn(2000)\n",
    "iplot([go.Histogram2dContour(x=x, y=y, contours=dict(coloring='heatmap')),\n",
    "       go.Scatter(x=x, y=y, mode='markers', marker=dict(color='white', size=3, opacity=0.3))], show_link=False)"
   ]
  },
  {
   "cell_type": "markdown",
   "metadata": {},
   "source": [
    "# <center>2</center>"
   ]
  },
  {
   "cell_type": "code",
   "execution_count": null,
   "metadata": {},
   "outputs": [],
   "source": [
    "N = 100\n",
    "example_x = np.random.rand(N)\n",
    "example_y = np.random.rand(N)\n",
    "\n",
    "trace = go.Scatter(\n",
    "    x = example_x,\n",
    "    y = example_y,\n",
    "    mode = 'markers')\n",
    "\n",
    "data = [trace]\n",
    "iplot(data)\n"
   ]
  },
  {
   "cell_type": "code",
   "execution_count": null,
   "metadata": {},
   "outputs": [],
   "source": [
    "#PIE CHART CREATION\n",
    "#Expenses\n",
    "\n",
    "#breakdown each category \n",
    "groups = ['Rent','Food','Bills','Miscellaneous']\n",
    "#create amount\n",
    "amount = [1000,518,331,277]\n",
    "#style\n",
    "colors = ['#d32c58', '#f9b1ee', '#b7f9b1', '#b1f5f9']\n",
    "\n",
    "trace = go.Pie(labels=groups, values=amount,\n",
    "               hoverinfo='label+percent', textinfo='value', \n",
    "               textfont=dict(size=25),\n",
    "               marker=dict(colors=colors, \n",
    "                           line=dict(color='#000000', width=3)))\n",
    "\n",
    "#plot - \n",
    "iplot([trace])"
   ]
  },
  {
   "cell_type": "markdown",
   "metadata": {},
   "source": [
    "## <center> 3 </center>"
   ]
  },
  {
   "cell_type": "code",
   "execution_count": null,
   "metadata": {},
   "outputs": [],
   "source": [
    "pubg = pd.read_csv('PUBG.csv')\n",
    "#pubg.head(10)\n",
    "df_pubg = pubg.apply(pd.to_numeric, errors='ignore')\n",
    "df_new_pubg = df_pubg.head(10)"
   ]
  },
  {
   "cell_type": "code",
   "execution_count": null,
   "metadata": {},
   "outputs": [],
   "source": [
    "#df_new_pubg.head(10)"
   ]
  },
  {
   "cell_type": "code",
   "execution_count": null,
   "metadata": {},
   "outputs": [],
   "source": [
    "\n",
    "trace = go.Scatter(x = df_new_pubg['solo_RoundsPlayed'], y= df_new_pubg['solo_Wins'],\n",
    "                  name ='Rounds Won')\n",
    "layout = go.Layout(title='PUBG Wins vs Rounds Played',\n",
    "                   plot_bgcolor='rgb(230, 230,230)', \n",
    "                   showlegend=True)\n",
    "fig = go.Figure(data=[trace], layout=layout)\n",
    "\n",
    "iplot(fig, filename='test')"
   ]
  },
  {
   "cell_type": "code",
   "execution_count": null,
   "metadata": {},
   "outputs": [],
   "source": [
    "df_bar_pubg = df_pubg.head(30)"
   ]
  },
  {
   "cell_type": "code",
   "execution_count": null,
   "metadata": {},
   "outputs": [],
   "source": [
    "trace1 = go.Bar( \n",
    "        x = df_bar_pubg['player_name'],\n",
    "        y = df_bar_pubg['solo_RoundsPlayed'],\n",
    "        name= 'Rounds Played')\n",
    "\n",
    "trace2 = go.Bar( \n",
    "        x = df_bar_pubg['player_name'],\n",
    "        y = df_bar_pubg['solo_Wins'],\n",
    "        name= 'Wins')\n",
    "\n"
   ]
  },
  {
   "cell_type": "code",
   "execution_count": null,
   "metadata": {},
   "outputs": [],
   "source": [
    "data = [trace1, trace2]\n",
    "layout = go.Layout(barmode='group')\n",
    "\n",
    "fig = go.Figure(data=data, layout=layout)\n",
    "iplot(fig, filename='grouped-bar')"
   ]
  },
  {
   "cell_type": "markdown",
   "metadata": {},
   "source": [
    "## <center> 4 </center>"
   ]
  },
  {
   "cell_type": "code",
   "execution_count": null,
   "metadata": {},
   "outputs": [],
   "source": [
    "df_bar_pubg.head(10)"
   ]
  },
  {
   "cell_type": "code",
   "execution_count": 3,
   "metadata": {},
   "outputs": [
    {
     "ename": "NameError",
     "evalue": "name 'df_bar_pubg' is not defined",
     "output_type": "error",
     "traceback": [
      "\u001b[1;31m---------------------------------------------------------------------------\u001b[0m",
      "\u001b[1;31mNameError\u001b[0m                                 Traceback (most recent call last)",
      "\u001b[1;32m<ipython-input-3-0a19274dacf5>\u001b[0m in \u001b[0;36m<module>\u001b[1;34m\u001b[0m\n\u001b[0;32m      1\u001b[0m \u001b[1;32mimport\u001b[0m \u001b[0mplotly\u001b[0m\u001b[1;33m.\u001b[0m\u001b[0mfigure_factory\u001b[0m \u001b[1;32mas\u001b[0m \u001b[0mff\u001b[0m\u001b[1;33m\u001b[0m\u001b[1;33m\u001b[0m\u001b[0m\n\u001b[0;32m      2\u001b[0m \u001b[1;33m\u001b[0m\u001b[0m\n\u001b[1;32m----> 3\u001b[1;33m \u001b[0mx\u001b[0m \u001b[1;33m=\u001b[0m \u001b[0mdf_bar_pubg\u001b[0m\u001b[1;33m[\u001b[0m\u001b[1;34m'solo_Wins'\u001b[0m\u001b[1;33m]\u001b[0m\u001b[1;33m\u001b[0m\u001b[1;33m\u001b[0m\u001b[0m\n\u001b[0m\u001b[0;32m      4\u001b[0m \u001b[0my\u001b[0m \u001b[1;33m=\u001b[0m \u001b[0mdf_bar_pubg\u001b[0m\u001b[1;33m[\u001b[0m\u001b[1;34m'solo_TimeSurvived'\u001b[0m\u001b[1;33m]\u001b[0m\u001b[1;33m\u001b[0m\u001b[1;33m\u001b[0m\u001b[0m\n\u001b[0;32m      5\u001b[0m \u001b[1;31m#z = df_bar_pubg['squad_Heals']\u001b[0m\u001b[1;33m\u001b[0m\u001b[1;33m\u001b[0m\u001b[1;33m\u001b[0m\u001b[0m\n",
      "\u001b[1;31mNameError\u001b[0m: name 'df_bar_pubg' is not defined"
     ]
    }
   ],
   "source": [
    "import plotly.figure_factory as ff\n",
    "\n",
    "x = df_bar_pubg['solo_Wins']\n",
    "y = df_bar_pubg['solo_TimeSurvived']\n",
    "#z = df_bar_pubg['squad_Heals']\n",
    "\n",
    "colorscale = ['#7A4579', '#D56073', 'rgb(236,158,105)', (1, 1, 0.2), (0.98,0.98,0.98)]\n",
    "\n",
    "fig = ff.create_2d_density(\n",
    "    x, y, colorscale=colorscale,\n",
    "    hist_color='rgb(255, 237, 222)', point_size=3\n",
    ")\n",
    "\n",
    "\n",
    "iplot(fig, filename='histogram_subplots')"
   ]
  },
  {
   "cell_type": "code",
   "execution_count": null,
   "metadata": {},
   "outputs": [],
   "source": [
    "df_bar_pubg.head(1)"
   ]
  },
  {
   "cell_type": "code",
   "execution_count": null,
   "metadata": {},
   "outputs": [],
   "source": [
    "#3D Plotly visualization\n",
    "\n",
    "plotly.tools.set_credentials_file(username='DemoAccount', api_key='lr1c37zw81')\n",
    "\n",
    "x = df_bar_pubg['solo_Wins']\n",
    "y = df_bar_pubg['solo_TimeSurvived']\n",
    "z = df_bar_pubg['solo_RoundsPlayed']\n",
    "\n",
    "trace1 = go.Scatter3d(\n",
    "    x=x,\n",
    "    y=y,\n",
    "    z=z,\n",
    "    mode='markers',\n",
    "    marker=dict(\n",
    "    size=12,\n",
    "    color=z,\n",
    "    colorscale='Viridis',\n",
    "    opacity=0.8))\n",
    "\n",
    "data = [trace1]\n",
    "layout = go.Layout(\n",
    "    margin=dict(\n",
    "    l=0,\n",
    "    r=0,\n",
    "    b=0,\n",
    "    t=0)\n",
    ")\n",
    "\n",
    "fig = go.Figure(data=data, layout=layout)\n",
    "iplot(fig, filename='3d-pubg-plot')"
   ]
  },
  {
   "cell_type": "markdown",
   "metadata": {},
   "source": [
    "## <center>5 </center>"
   ]
  },
  {
   "cell_type": "code",
   "execution_count": null,
   "metadata": {},
   "outputs": [],
   "source": [
    "df = pd.read_csv(\"https://raw.githubusercontent.com/plotly/datasets/master/finance-charts-apple.csv\")\n",
    "\n",
    "data = [go.Scatter(\n",
    "          x=df.Date,\n",
    "          y=df['AAPL.Close'])]\n",
    "\n",
    "iplot(data)"
   ]
  },
  {
   "cell_type": "code",
   "execution_count": null,
   "metadata": {},
   "outputs": [],
   "source": [
    "tesla = pd.read_csv(\"https://raw.githubusercontent.com/plotly/datasets/master/tesla-stock-price.csv\")\n",
    "\n",
    "\n",
    "trace_one = go.Scatter(\n",
    "            x=tesla.date,\n",
    "            y=tesla['high'],\n",
    "            name= \"Tesla High\",\n",
    "            line = dict(color='#17BECF'),\n",
    "            opacity = 0.8)\n",
    "\n",
    "trace_two = go.Scatter(\n",
    "            x=tesla.date,\n",
    "            y=tesla['low'],\n",
    "            name= \"Tesla Low\",\n",
    "            line = dict(color='#7F7F7F'),\n",
    "            opacity = 0.8)\n",
    "\n",
    "data = [trace_one, trace_two]\n",
    "\n",
    "\n",
    "layout = dict(\n",
    "        title = 'Tesla Stock Price - High vs Low')\n",
    "\n",
    "\n",
    "fig = dict(data=data, layout=layout)\n",
    "iplot(fig, filename = 'Tesla Stock Comparison')"
   ]
  },
  {
   "cell_type": "markdown",
   "metadata": {},
   "source": [
    "## <center> 6 </center> "
   ]
  },
  {
   "cell_type": "code",
   "execution_count": null,
   "metadata": {},
   "outputs": [],
   "source": [
    "\n",
    "#pip install plotly --upgrade\n",
    "#pip install geopandas==0.3.0\n",
    "#pip install pyshp==1.2.10\n",
    "#pip install shapely==1.6.3\n"
   ]
  },
  {
   "cell_type": "code",
   "execution_count": null,
   "metadata": {},
   "outputs": [],
   "source": [
    "scope = ['California']\n",
    "df = pd.read_csv('https://raw.githubusercontent.com/plotly/datasets/master/minoritymajority.csv')\n",
    "\n",
    "#df name\n",
    "df_new = df[df['STNAME'].isin(scope)]\n",
    "\n",
    "# list values\n",
    "values = df_new['TOT_POP'].tolist()\n",
    "fips = df_new['FIPS'].tolist()\n",
    "\n",
    "#have to have the colorscale values at least = to the # of counties\n",
    "colorscale = [\"#2daa4b\", \"#80b1d3\", \"#fdb462\", \"#b3de69\", \"#fccde5\", \"#ff0000\", \"#cce6f4\",\n",
    "              \"#80b1d3\", \"#fdb462\", \"#b3de69\", \"#fccde5\", \"#9ba991\", \"#604d74\", \"#afcbc7\",\n",
    "              \"#80b1d3\", \"#fdb462\", \"#b3de69\", \"#fccde5\", \"#f0c800\", \"#387e75\", \"#fce7e7\",\n",
    "              \"#8dd3c7\", \"#ffffb3\", \"#bebada\", \"#fb8072\", \"#00778b\", \"#1d2d43\", \"#460606\",\n",
    "              \"#8dd3c7\", \"#ffffb3\", \"#bebada\", \"#fb8072\", \"#af3205\", \"#436e6f\", \"#f6a2a2\",\n",
    "              \"#d9d9d9\", \"#bc80bd\", \"#ccebc5\", \"#ffed6f\", \"#5a3791\", \"#1d2d43\", \"#0068a0\",\n",
    "              \"#d9d9d9\", \"#bc80bd\", \"#ccebc5\", \"#ffed6f\", \"#f6c4d2\", \"#675974\", \"#bb1212\",\n",
    "              \"#d9d9d9\", \"#bc80bd\", \"#ccebc5\", \"#ffed6f\", \"#ffd03e\", \"#4f5573\", \"#327169\",\n",
    "              \"#3697dd\", \"#8dd3c7\", \"#ffffb3\", \"#bebada\", \"#fb8072\", \"#ea1717\", \"#66b4de\",]\n",
    "\n",
    "fig = ff.create_choropleth(\n",
    "      fips=fips, values=values, scope=scope,\n",
    "      colorscale=colorscale,round_legend_values=True,\n",
    "      simplify_county=0, simplify_state=0,\n",
    "      county_outline={'color': 'rgb(15,15,55)', 'width': 0.5},\n",
    "      state_outline={'width': 0.5},\n",
    "      legend_title='Population Per County',\n",
    "      title='California')\n",
    "    \n",
    "    \n",
    "iplot(fig, filename='Choropleth Map Creation')"
   ]
  }
 ],
 "metadata": {
  "kernelspec": {
   "display_name": "Python 3",
   "language": "python",
   "name": "python3"
  },
  "language_info": {
   "codemirror_mode": {
    "name": "ipython",
    "version": 3
   },
   "file_extension": ".py",
   "mimetype": "text/x-python",
   "name": "python",
   "nbconvert_exporter": "python",
   "pygments_lexer": "ipython3",
   "version": "3.8.2"
  }
 },
 "nbformat": 4,
 "nbformat_minor": 2
}
